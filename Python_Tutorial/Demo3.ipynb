{
  "nbformat": 4,
  "nbformat_minor": 0,
  "metadata": {
    "colab": {
      "name": "Demo3.ipynb",
      "version": "0.3.2",
      "provenance": [],
      "collapsed_sections": [],
      "include_colab_link": true
    },
    "kernelspec": {
      "name": "python3",
      "display_name": "Python 3"
    }
  },
  "cells": [
    {
      "cell_type": "markdown",
      "metadata": {
        "id": "view-in-github",
        "colab_type": "text"
      },
      "source": [
        "<a href=\"https://colab.research.google.com/github/krishnayele/Machine-learning/blob/master/Python_Tutorial/Demo3.ipynb\" target=\"_parent\"><img src=\"https://colab.research.google.com/assets/colab-badge.svg\" alt=\"Open In Colab\"/></a>"
      ]
    },
    {
      "cell_type": "code",
      "metadata": {
        "id": "0WIm0bSPDn7g",
        "colab_type": "code",
        "outputId": "865cf370-972d-4302-d4ed-4fd8d207c046",
        "colab": {
          "base_uri": "https://localhost:8080/",
          "height": 319
        }
      },
      "source": [
        " !pip install lightfm\n",
        "    "
      ],
      "execution_count": 1,
      "outputs": [
        {
          "output_type": "stream",
          "text": [
            "Collecting lightfm\n",
            "\u001b[?25l  Downloading https://files.pythonhosted.org/packages/e9/8e/5485ac5a8616abe1c673d1e033e2f232b4319ab95424b42499fabff2257f/lightfm-1.15.tar.gz (302kB)\n",
            "\u001b[K     |████████████████████████████████| 307kB 4.7MB/s \n",
            "\u001b[?25hRequirement already satisfied: numpy in /usr/local/lib/python3.6/dist-packages (from lightfm) (1.16.4)\n",
            "Requirement already satisfied: scipy>=0.17.0 in /usr/local/lib/python3.6/dist-packages (from lightfm) (1.3.0)\n",
            "Requirement already satisfied: requests in /usr/local/lib/python3.6/dist-packages (from lightfm) (2.21.0)\n",
            "Requirement already satisfied: urllib3<1.25,>=1.21.1 in /usr/local/lib/python3.6/dist-packages (from requests->lightfm) (1.24.3)\n",
            "Requirement already satisfied: chardet<3.1.0,>=3.0.2 in /usr/local/lib/python3.6/dist-packages (from requests->lightfm) (3.0.4)\n",
            "Requirement already satisfied: certifi>=2017.4.17 in /usr/local/lib/python3.6/dist-packages (from requests->lightfm) (2019.6.16)\n",
            "Requirement already satisfied: idna<2.9,>=2.5 in /usr/local/lib/python3.6/dist-packages (from requests->lightfm) (2.8)\n",
            "Building wheels for collected packages: lightfm\n",
            "  Building wheel for lightfm (setup.py) ... \u001b[?25l\u001b[?25hdone\n",
            "  Stored in directory: /root/.cache/pip/wheels/eb/bb/ac/188385a5da6627956be5d9663928483b36da576149ab5b8f79\n",
            "Successfully built lightfm\n",
            "Installing collected packages: lightfm\n",
            "Successfully installed lightfm-1.15\n"
          ],
          "name": "stdout"
        }
      ]
    },
    {
      "cell_type": "code",
      "metadata": {
        "id": "Ua_rpqdbD4Vt",
        "colab_type": "code",
        "colab": {}
      },
      "source": [
        "import lightfm"
      ],
      "execution_count": 0,
      "outputs": []
    },
    {
      "cell_type": "code",
      "metadata": {
        "id": "P73e4WPQEH33",
        "colab_type": "code",
        "colab": {
          "base_uri": "https://localhost:8080/",
          "height": 602
        },
        "outputId": "313c8f88-2d85-46f5-9d2f-102ebe0fbcc8"
      },
      "source": [
        "import numpy as np\n",
        "from lightfm.datasets import fetch_movielens\n",
        "from lightfm import LightFM\n",
        "\n",
        "#fetch data\n",
        "data = fetch_movielens(min_rating = 4.0)\n",
        "\n",
        "#print training and testing data\n",
        "\n",
        "print(repr(data['train']))\n",
        "print(repr(data['test']))\n",
        "\n",
        "#create model\n",
        "model = LightFM(loss='warp')\n",
        "#train model\n",
        "model.fit(data['train'], epochs=30, num_threads=2)\n",
        "\n",
        "def sample_recommendation(model, data, user_ids):\n",
        "\t#number of users and movies in training data\n",
        "\tn_users, n_items = data['train'].shape\n",
        "\t#generate recommendations for each user we input\n",
        "\tfor user_id in user_ids:\n",
        "\t\t#movies they already like\n",
        "\t\tknown_positives = data['item_labels'][data['train'].tocsr()[user_id].indices]\n",
        "\n",
        "\t\t#movie our model predicts they will ike\n",
        "\t\tscores = model.predict(user_id, np.arange(n_items))\n",
        "\t\t## rank them in order of most likedto least\n",
        "\t\ttop_items = data['item_labels'][np.argsort(-scores)]\n",
        "\n",
        "\t\t#print out the results\n",
        "\t\tprint(\"user %s\" % user_id)\n",
        "\t\tprint(\"\t\tKnown positives:\")\n",
        "\n",
        "\t\tfor x in known_positives[:3]:\n",
        "\t\t\tprint(\"\t\t%s\"%x)\n",
        "\n",
        "\t\tprint(\"\t\tRecommended:\")\n",
        "\t\tfor x in top_items[:3]:\n",
        "\t\t\tprint(\"\t\t%s\"%x)\n",
        "\n",
        "      \n",
        "sample_recommendation(model, data, [3,25,450])"
      ],
      "execution_count": 12,
      "outputs": [
        {
          "output_type": "stream",
          "text": [
            "<943x1682 sparse matrix of type '<class 'numpy.int32'>'\n",
            "\twith 49906 stored elements in COOrdinate format>\n",
            "<943x1682 sparse matrix of type '<class 'numpy.int32'>'\n",
            "\twith 5469 stored elements in COOrdinate format>\n",
            "user 3\n",
            "\t\tKnown positives:\n",
            "\t\tSeven (Se7en) (1995)\n",
            "\t\tContact (1997)\n",
            "\t\tStarship Troopers (1997)\n",
            "\t\tRecommended:\n",
            "\t\tDevil's Advocate, The (1997)\n",
            "\t\tAir Force One (1997)\n",
            "\t\tL.A. Confidential (1997)\n",
            "user 25\n",
            "\t\tKnown positives:\n",
            "\t\tDead Man Walking (1995)\n",
            "\t\tStar Wars (1977)\n",
            "\t\tFargo (1996)\n",
            "\t\tRecommended:\n",
            "\t\tFargo (1996)\n",
            "\t\tContact (1997)\n",
            "\t\tL.A. Confidential (1997)\n",
            "user 450\n",
            "\t\tKnown positives:\n",
            "\t\tContact (1997)\n",
            "\t\tGeorge of the Jungle (1997)\n",
            "\t\tEvent Horizon (1997)\n",
            "\t\tRecommended:\n",
            "\t\tDevil's Advocate, The (1997)\n",
            "\t\tConspiracy Theory (1997)\n",
            "\t\tAir Force One (1997)\n"
          ],
          "name": "stdout"
        }
      ]
    },
    {
      "cell_type": "code",
      "metadata": {
        "id": "TEpudlSj3fFm",
        "colab_type": "code",
        "colab": {}
      },
      "source": [
        ""
      ],
      "execution_count": 0,
      "outputs": []
    }
  ]
}