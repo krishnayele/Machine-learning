{
 "cells": [
  {
   "cell_type": "markdown",
   "metadata": {},
   "source": [
    "This Code contains the implementation of deployment of ML model using PICKLE"
   ]
  },
  {
   "cell_type": "code",
   "execution_count": 1,
   "metadata": {},
   "outputs": [],
   "source": [
    "# import pickle to \n",
    "import pickle"
   ]
  },
  {
   "cell_type": "code",
   "execution_count": 2,
   "metadata": {},
   "outputs": [],
   "source": [
    "from sklearn import tree\n",
    "from sklearn.neural_network import MLPClassifier\n",
    "from sklearn.ensemble import RandomForestClassifier, AdaBoostClassifier\n",
    "\n",
    "import pandas as pd \n",
    "import numpy as np \n",
    "#[height, weight, BMI index]\n",
    "#input the data \n",
    "#csv 500_Person_Gender_Height_Weight_Index.csv\n",
    "\n",
    "data = pd.read_csv(\"500_Person_Gender_Height_Weight_Index.csv\")\n",
    "Y= data.Gender \n",
    "X = data.drop('Gender',axis = 1)\n",
    "\n",
    "\n",
    "#the figure of person whose sex is to be predicted\n",
    "_value = [[167,75,3]]\n",
    "\n",
    "\n",
    "#testing through Decision Tree\n",
    "# model name clf1\n",
    "clf1 = tree.DecisionTreeClassifier()\n",
    "clf1 = clf1.fit(X, Y)\n",
    "\n",
    "   #save the model using pickle \n",
    "filename = 'finalized_model_DTC.sav'\n",
    "   # pickle.dump(model, open(filename, 'wb'))\n",
    "pickle.dump(clf1, open(filename, 'wb'))\n",
    "\n",
    "#prediction1 = clf1.predict(_value)\n",
    "#print(\"Result through Decision Tree : \", prediction1)\n",
    "\n",
    "#testing using Neural network\n",
    "clf2 = MLPClassifier(alpha=1, max_iter=1000)\n",
    "clf2 = clf2.fit(X, Y)\n",
    "\n",
    "   #save the model using pickle \n",
    "filename = 'finalized_model_NN.sav'\n",
    "   # pickle.dump(model, open(filename, 'wb'))\n",
    "pickle.dump(clf2, open(filename, 'wb'))\n",
    "\n",
    "\n",
    "#testing using Random Forest classifier\n",
    "clf3 = RandomForestClassifier(max_depth=5, n_estimators=10, max_features=1)\n",
    "clf3 = clf3.fit(X, Y)\n",
    "\n",
    "   #save the model using pickle \n",
    "filename = 'finalized_model_RFC.sav'\n",
    "   # pickle.dump(model, open(filename, 'wb'))\n",
    "pickle.dump(clf3, open(filename, 'wb'))\n",
    "\n",
    "\n",
    "\n",
    "#testing using ADABooST\n",
    "\n",
    "clf4 = AdaBoostClassifier()\n",
    "clf4.fit(X,Y)\n",
    "   #save the model using pickle \n",
    "filename = 'finalized_model_ABC.sav'\n",
    "   # pickle.dump(model, open(filename, 'wb'))\n",
    "pickle.dump(clf4, open(filename, 'wb'))\n"
   ]
  },
  {
   "cell_type": "code",
   "execution_count": null,
   "metadata": {},
   "outputs": [],
   "source": []
  }
 ],
 "metadata": {
  "kernelspec": {
   "display_name": "Python 3",
   "language": "python",
   "name": "python3"
  },
  "language_info": {
   "codemirror_mode": {
    "name": "ipython",
    "version": 3
   },
   "file_extension": ".py",
   "mimetype": "text/x-python",
   "name": "python",
   "nbconvert_exporter": "python",
   "pygments_lexer": "ipython3",
   "version": "3.7.1"
  }
 },
 "nbformat": 4,
 "nbformat_minor": 2
}
