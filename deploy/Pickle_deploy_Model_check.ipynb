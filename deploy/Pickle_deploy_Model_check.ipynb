{
 "cells": [
  {
   "cell_type": "markdown",
   "metadata": {},
   "source": [
    "In this code we will download the models and check their output"
   ]
  },
  {
   "cell_type": "code",
   "execution_count": 1,
   "metadata": {},
   "outputs": [],
   "source": [
    "# import all the libraries\n",
    "from sklearn import tree\n",
    "from sklearn.neural_network import MLPClassifier\n",
    "from sklearn.ensemble import RandomForestClassifier, AdaBoostClassifier"
   ]
  },
  {
   "cell_type": "code",
   "execution_count": 2,
   "metadata": {},
   "outputs": [],
   "source": [
    "import pickle"
   ]
  },
  {
   "cell_type": "markdown",
   "metadata": {},
   "source": [
    "# load the data from disk\n",
    "\n",
    "the list of saved model \n",
    "\n",
    "\n",
    "* 'finalized_model_DTC.sav'\n",
    "* 'finalized_model_NN.sav'\n",
    "* 'finalized_model_RFC.sav'\n",
    "* 'finalized_model_ABC.sav'\n"
   ]
  },
  {
   "cell_type": "code",
   "execution_count": 7,
   "metadata": {},
   "outputs": [],
   "source": [
    "#the figure of person whose sex is to be predicted\n",
    "_value = [[167,75,3]]"
   ]
  },
  {
   "cell_type": "code",
   "execution_count": 3,
   "metadata": {},
   "outputs": [],
   "source": [
    "#loaded_model = pickle.load(open(filename, 'rb'))\n",
    "#result = loaded_model.score(X_test, Y_test)\n",
    "filename = 'finalized_model_DTC.sav'\n",
    "loaded_model_DecisionTreeClassifier = pickle.load(open(filename,'rb'))"
   ]
  },
  {
   "cell_type": "code",
   "execution_count": 4,
   "metadata": {},
   "outputs": [],
   "source": [
    "filename = 'finalized_model_NN.sav'\n",
    "loaded_model_NueralNetwork = pickle.load(open(filename,'rb'))"
   ]
  },
  {
   "cell_type": "code",
   "execution_count": 5,
   "metadata": {},
   "outputs": [],
   "source": [
    "filename = 'finalized_model_RFC.sav'\n",
    "loaded_model_RandomForestClassifier = pickle.load(open(filename,'rb'))"
   ]
  },
  {
   "cell_type": "code",
   "execution_count": 6,
   "metadata": {},
   "outputs": [],
   "source": [
    "filename = 'finalized_model_ABC.sav'\n",
    "loaded_model_ADABoost = pickle.load(open(filename,'rb'))"
   ]
  },
  {
   "cell_type": "code",
   "execution_count": 8,
   "metadata": {},
   "outputs": [
    {
     "name": "stdout",
     "output_type": "stream",
     "text": [
      "Result through Decision Tree :  ['Male']\n"
     ]
    }
   ],
   "source": [
    "#prediction using DecisionTree\n",
    "prediction1 = loaded_model_DecisionTreeClassifier.predict(_value)\n",
    "print(\"Result through Decision Tree : \", prediction1)"
   ]
  },
  {
   "cell_type": "code",
   "execution_count": 10,
   "metadata": {},
   "outputs": [
    {
     "name": "stdout",
     "output_type": "stream",
     "text": [
      "Result by Neuaral Network :     ['Female']\n"
     ]
    }
   ],
   "source": [
    "#prediction using NeuralNetwork\n",
    "prediction2 = loaded_model_NueralNetwork.predict(_value)\n",
    "print(\"Result by Neuaral Network :    \", prediction2)"
   ]
  },
  {
   "cell_type": "code",
   "execution_count": 11,
   "metadata": {},
   "outputs": [
    {
     "name": "stdout",
     "output_type": "stream",
     "text": [
      "Result by Random forest generator:  ['Male']\n"
     ]
    }
   ],
   "source": [
    "#prediction using Random Forest\n",
    "prediction3 = loaded_model_RandomForestClassifier.predict(_value)\n",
    "print(\"Result by Random forest generator: \", prediction3)"
   ]
  },
  {
   "cell_type": "code",
   "execution_count": 12,
   "metadata": {},
   "outputs": [
    {
     "name": "stdout",
     "output_type": "stream",
     "text": [
      "Result by Ada Boost    :  ['Female']\n"
     ]
    }
   ],
   "source": [
    "#prediction using ADABoost\n",
    "prediction4 = loaded_model_ADABoost.predict(_value)\n",
    "print(\"Result by Ada Boost    : \", prediction4)"
   ]
  },
  {
   "cell_type": "code",
   "execution_count": null,
   "metadata": {},
   "outputs": [],
   "source": []
  }
 ],
 "metadata": {
  "kernelspec": {
   "display_name": "Python 3",
   "language": "python",
   "name": "python3"
  },
  "language_info": {
   "codemirror_mode": {
    "name": "ipython",
    "version": 3
   },
   "file_extension": ".py",
   "mimetype": "text/x-python",
   "name": "python",
   "nbconvert_exporter": "python",
   "pygments_lexer": "ipython3",
   "version": "3.7.1"
  }
 },
 "nbformat": 4,
 "nbformat_minor": 2
}
